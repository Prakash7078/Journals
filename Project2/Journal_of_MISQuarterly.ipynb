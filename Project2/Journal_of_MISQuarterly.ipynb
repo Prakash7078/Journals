{
 "cells": [
  {
   "cell_type": "code",
   "execution_count": 1,
   "id": "81a80f46-b5cb-42e3-a0b0-1a9331787b20",
   "metadata": {},
   "outputs": [],
   "source": [
    "#Journal of MISQuarterly\n",
    "from selenium import webdriver\n",
    "from selenium.webdriver.common.by import By\n",
    "import csv\n",
    "\n",
    "driver=webdriver.Chrome()\n",
    "driver.get('https://misq.umn.edu/archive/')\n",
    "\n",
    "with open('Journal_of_MIS_Quarterly.csv',mode='a',newline='',encoding='utf-8') as file:\n",
    "    writer=csv.writer(file)\n",
    "    writer.writerow(['Title','Month','URL'])\n",
    "def findUrls(title,months):\n",
    "    for month in months:\n",
    "        url=month.get_attribute('href')\n",
    "        month_name=month.text.strip()\n",
    "        try:\n",
    "            with open('Journal_of_MIS_Quarterly.csv',mode='a',newline='',encoding='utf-8') as file:\n",
    "                writer=csv.writer(file)\n",
    "                writer.writerow([title,month_name,url])\n",
    "        except Exception as e:\n",
    "            print(e)\n",
    "\n",
    "\n",
    "archieveTable=driver.find_element(By.CSS_SELECTOR,'table.archiveTable')\n",
    "rows=archieveTable.find_elements(By.CSS_SELECTOR,'tr')\n",
    "for row in rows:\n",
    "    try:\n",
    "        title=row.find_element(By.CSS_SELECTOR,'strong').text.strip()\n",
    "    except:\n",
    "        title=''\n",
    "    try:\n",
    "        months=row.find_elements(By.CSS_SELECTOR,'a')\n",
    "        findUrls(title,months)\n",
    "    except Exception as e:\n",
    "        print(e)\n",
    "driver.quit()\n"
   ]
  },
  {
   "cell_type": "code",
   "execution_count": 3,
   "id": "1e32ffd8-ec68-4aed-9778-3ba6346e4a2a",
   "metadata": {},
   "outputs": [],
   "source": [
    "#Volumes of MISQuarterly\n",
    "from selenium import webdriver\n",
    "from selenium.webdriver.common.by import By\n",
    "import csv\n",
    "import pandas as pd\n",
    "data=pd.read_csv('Journal_of_MIS_Quarterly.csv')\n",
    "driver=webdriver.Chrome()\n",
    "def findurls(elements):\n",
    "    urls=[]\n",
    "    for ele in elements:\n",
    "        url=ele.get_attribute('href')\n",
    "        if '.html' in url:\n",
    "            urls.append(url)\n",
    "    return urls\n",
    "with open('Journal_of_MIS_Quarterly_volume_articles.csv',mode='a',newline='',encoding='utf-8') as file:\n",
    "    writer=csv.writer(file)\n",
    "    writer.writerow(['Title','Month','URL'])\n",
    "for index,row in data.iterrows():\n",
    "    title=row['Title']\n",
    "    month=row['Month']\n",
    "    url=row['URL']\n",
    "    driver.get(url)\n",
    "    ele=driver.find_elements(By.CSS_SELECTOR,'p a')\n",
    "    urls_data=findurls(ele)\n",
    "    for i in urls_data:\n",
    "        with open('Journal_of_MIS_Quarterly_volume_articles.csv',mode='a',newline='',encoding='utf-8') as file:\n",
    "            writer=csv.writer(file)\n",
    "            writer.writerow([title,month,i])\n",
    "    \n",
    "driver.quit()\n"
   ]
  },
  {
   "cell_type": "code",
   "execution_count": null,
   "id": "59a8dd77-1de0-4312-b280-e90b587d8b3c",
   "metadata": {},
   "outputs": [],
   "source": []
  }
 ],
 "metadata": {
  "kernelspec": {
   "display_name": "Python 3 (ipykernel)",
   "language": "python",
   "name": "python3"
  },
  "language_info": {
   "codemirror_mode": {
    "name": "ipython",
    "version": 3
   },
   "file_extension": ".py",
   "mimetype": "text/x-python",
   "name": "python",
   "nbconvert_exporter": "python",
   "pygments_lexer": "ipython3",
   "version": "3.12.4"
  }
 },
 "nbformat": 4,
 "nbformat_minor": 5
}
