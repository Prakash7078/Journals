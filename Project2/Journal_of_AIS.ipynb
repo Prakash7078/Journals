{
 "cells": [
  {
   "cell_type": "code",
   "execution_count": null,
   "id": "00b169ef-259a-41ef-ba16-7ea8ebcf3ba9",
   "metadata": {},
   "outputs": [
    {
     "name": "stderr",
     "output_type": "stream",
     "text": [
      "There was an error managing chromedriver (error sending request for url (https://googlechromelabs.github.io/chrome-for-testing/known-good-versions-with-downloads.json)); using driver found in the cache\n"
     ]
    }
   ],
   "source": [
    "#Journal of AIS \n",
    "from selenium import webdriver\n",
    "from selenium.webdriver.common.by import By\n",
    "import csv\n",
    "main_url='https://aisel.aisnet.org/jais/all_issues.html'\n",
    "driver=webdriver.Chrome()\n",
    "driver.get(main_url)\n",
    "issues=driver.find_elements(By.CSS_SELECTOR,'h3.issue')\n",
    "data=[]\n",
    "with open('Journal_of_AIS_issue_urls.csv',mode='a',newline='',encoding='utf-8') as file:\n",
    "    writer=csv.writer(file)\n",
    "    writer.writerow(['Year','Issue','URL'])\n",
    "for issue in issues:\n",
    "    year=issue.text.strip().split('(')[1].split(')')[0]\n",
    "    ele=issue.find_element(By.CSS_SELECTOR,'a')\n",
    "    url=ele.get_attribute('href')\n",
    "    issue_text=ele.text.strip()\n",
    "   \n",
    "    try:\n",
    "        with open('Journal_of_AIS_issue_urls.csv',mode='a',newline='',encoding='utf-8') as file:\n",
    "            writer=csv.writer(file)\n",
    "            writer.writerow([year,issue_text,url])\n",
    "    except Exception as e:\n",
    "        print(e)\n",
    "driver.quit()"
   ]
  },
  {
   "cell_type": "code",
   "execution_count": 5,
   "id": "b15e9de5-836f-4eb2-95a4-813e463408f6",
   "metadata": {},
   "outputs": [
    {
     "name": "stdout",
     "output_type": "stream",
     "text": [
      "   Year    Issue                                        URL\n",
      "0  2024  Issue 1  https://aisel.aisnet.org/jais/vol25/iss1/\n",
      "1  2024  Issue 2  https://aisel.aisnet.org/jais/vol25/iss2/\n",
      "2  2024  Issue 3  https://aisel.aisnet.org/jais/vol25/iss3/\n",
      "3  2024  Issue 4  https://aisel.aisnet.org/jais/vol25/iss4/\n",
      "4  2024  Issue 5  https://aisel.aisnet.org/jais/vol25/iss5/\n"
     ]
    }
   ],
   "source": [
    "import pandas as pd\n",
    "from selenium import webdriver\n",
    "from selenium.webdriver.common.by import By\n",
    "import csv\n",
    "data=pd.read_csv('journal_of_AIS_issue_urls.csv')\n",
    "with open('Jounal_of_AIS_article_urls.csv',mode='a', newline='',encoding='utf-8') as file:\n",
    "    writer=csv.writer(file)\n",
    "    writer.writerow(['Title','Year','Issue','ArticleURL'])\n",
    "print(data.head())\n",
    "for index,row in data.iterrows():\n",
    "    year=row['Year']\n",
    "    issue=row['Issue']\n",
    "    url=row['URL']\n",
    "    driver=webdriver.Chrome()\n",
    "    driver.get(url)\n",
    "    driver.implicitly_wait(20)\n",
    "    #nth-of-type(2) helps to get second selector child element in the div\n",
    "    articles=driver.find_elements(By.CSS_SELECTOR,'div.doc > p:nth-of-type(2) a')\n",
    "    for article_url in articles:\n",
    "        title=article_url.text.strip()\n",
    "        url_link=article_url.get_attribute('href')\n",
    "        with open('Jounal_of_AIS_article_urls.csv',mode='a',newline='',encoding='utf-8') as file:\n",
    "            writer=csv.writer(file)\n",
    "            writer.writerow([title,year,issue,url_link])\n",
    "    driver.quit()"
   ]
  },
  {
   "cell_type": "code",
   "execution_count": null,
   "id": "d64e24c6-8384-4fca-b70d-5389e70999f7",
   "metadata": {},
   "outputs": [],
   "source": []
  }
 ],
 "metadata": {
  "kernelspec": {
   "display_name": "Python 3 (ipykernel)",
   "language": "python",
   "name": "python3"
  },
  "language_info": {
   "codemirror_mode": {
    "name": "ipython",
    "version": 3
   },
   "file_extension": ".py",
   "mimetype": "text/x-python",
   "name": "python",
   "nbconvert_exporter": "python",
   "pygments_lexer": "ipython3",
   "version": "3.12.4"
  }
 },
 "nbformat": 4,
 "nbformat_minor": 5
}
