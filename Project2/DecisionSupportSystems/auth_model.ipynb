{
 "cells": [
  {
   "cell_type": "code",
   "execution_count": 60,
   "metadata": {},
   "outputs": [
    {
     "name": "stdout",
     "output_type": "stream",
     "text": [
      "      ID                                                URL  \\\n",
      "0  10681  https://www.sciencedirect.com/science/article/...   \n",
      "1   9394  https://www.sciencedirect.com/science/article/...   \n",
      "2   2575  https://www.sciencedirect.com/science/article/...   \n",
      "3   5696  https://www.sciencedirect.com/science/article/...   \n",
      "4  10114  https://www.sciencedirect.com/science/article/...   \n",
      "\n",
      "              Journal_Title                  Volume_Issue  month_year  \\\n",
      "0  Decision Support Systems             Volume 3, Issue 2        1987   \n",
      "1  Decision Support Systems            Volume 26, Issue 2        1999   \n",
      "2  Decision Support Systems                    Volume 112        2018   \n",
      "3  Decision Support Systems            Volume 52, Issue 3        2012   \n",
      "4  Decision Support Systems  Volume 12, Issues 4Ã¢â‚¬â€œ5        1994   \n",
      "\n",
      "                                            Abstract Keywords  \\\n",
      "0  A message based model of a Distributed Decisio...     \"[]\"   \n",
      "1  In theories of strategic management, organizat...     \"[]\"   \n",
      "2  Innovation contest platforms are used to colle...     \"[]\"   \n",
      "3  Web 2.0 has enabled and fostered Internet user...     \"[]\"   \n",
      "4  In most real world contexts, decisions must be...     \"[]\"   \n",
      "\n",
      "          Author_Name             Author_Email Standardized_Name  \\\n",
      "0             A Burns                      NaN           a burns   \n",
      "1            A Rutges                      NaN          a rutges   \n",
      "2      A. Ãƒâ€“zaygen  altay.ozaygen@u-psud.fr          a zaygen   \n",
      "3       A. Almansoori                      NaN      a almansoori   \n",
      "4  LuÃƒÂ­s A. Almeida                      NaN     lus a almeida   \n",
      "\n",
      "      Standardized_University         Author_University  \\\n",
      "0      University of Bradford    University of Bradford   \n",
      "1     University of Groningen   University of Groningen   \n",
      "2  Universit√É¬© Paris-Saclay  UniversitÃ© Paris-Saclay   \n",
      "3     The Petroleum Institute   The Petroleum Institute   \n",
      "4         University of Coimb     University of Coimbra   \n",
      "\n",
      "                                   Author_Department    Author_State  \\\n",
      "0                   Postgraduate School of Computing         England   \n",
      "1  Department of Production and Operation Management       Groningen   \n",
      "2           Institut Mines TÃ©lÃ©com-Business School  ÃŽle-de-France   \n",
      "3                 Department of Chemical Engineering       Abu Dhabi   \n",
      "4                               Faculty of Economics         Coimbra   \n",
      "\n",
      "         Author_Country Author_Pincode  \\\n",
      "0        United Kingdom        BD7 1DP   \n",
      "1       The Netherlands        9700 AV   \n",
      "2                France          91025   \n",
      "3  United Arab Emirates           2533   \n",
      "4              Portugal            NaN   \n",
      "\n",
      "                                               title  \n",
      "0               A distributed decision-making system  \n",
      "1  FARSYS: a knowledge-based system for managing ...  \n",
      "2  Idea evaluation in innovation contest platform...  \n",
      "3  Corporate dashboards for integrated business a...  \n",
      "4  A decision support system dedicated to discret...  \n"
     ]
    }
   ],
   "source": [
    "import pandas as pd\n",
    "import re\n",
    "\n",
    "# Load dataset\n",
    "df = pd.read_excel(\"Journal_Articles.xlsx\")  # Replace with your dataset\n",
    "\n",
    "# Convert to lowercase and remove special characters for authors\n",
    "def clean_text(text):\n",
    "    text = str(text).lower().strip()  # Convert to lowercase\n",
    "    text = re.sub(r'[^a-z\\s]', '', text)  # Remove special characters\n",
    "    return text\n",
    "\n",
    "df[\"Standardized_Name\"] = df[\"Author_Name\"].apply(clean_text)\n",
    "\n",
    "print(df.head())  # Check cleaned names\n"
   ]
  },
  {
   "cell_type": "code",
   "execution_count": 64,
   "metadata": {},
   "outputs": [],
   "source": [
    "df=df.fillna('NULL')"
   ]
  },
  {
   "cell_type": "code",
   "execution_count": 65,
   "metadata": {},
   "outputs": [
    {
     "name": "stdout",
     "output_type": "stream",
     "text": [
      "(10740, 8692)\n"
     ]
    }
   ],
   "source": [
    "from sklearn.feature_extraction.text import TfidfVectorizer\n",
    "\n",
    "# Convert names to TF-IDF vectors (character-based n-grams)\n",
    "vectorizer = TfidfVectorizer(analyzer='char', ngram_range=(2,3))\n",
    "tfidf_matrix = vectorizer.fit_transform(df[\"Author_Name\"])\n",
    "\n",
    "print(tfidf_matrix.shape)  # Check matrix size\n"
   ]
  },
  {
   "cell_type": "code",
   "execution_count": 66,
   "metadata": {},
   "outputs": [
    {
     "name": "stdout",
     "output_type": "stream",
     "text": [
      "Author_Name          A Burns  A Rutges  A. Ãƒâ€“zaygen  A. Almansoori  \\\n",
      "Author_Name                                                             \n",
      "A Burns             1.000000  0.026172        0.000000       0.042872   \n",
      "A Rutges            0.026172  1.000000        0.025127       0.000000   \n",
      "A. Ãƒâ€“zaygen      0.000000  0.025127        1.000000       0.067599   \n",
      "A. Almansoori       0.042872  0.000000        0.067599       1.000000   \n",
      "LuÃƒÂ­s A. Almeida  0.000000  0.000000        0.093744       0.299299   \n",
      "\n",
      "Author_Name         LuÃƒÂ­s A. Almeida  A. Bosman  A. Bourouis  A. Dailianas  \\\n",
      "Author_Name                                                                    \n",
      "A Burns                       0.000000   0.032677     0.069250      0.000000   \n",
      "A Rutges                      0.000000   0.000000     0.000000      0.000000   \n",
      "A. Ãƒâ€“zaygen                0.093744   0.082106     0.069012      0.075934   \n",
      "A. Almansoori                 0.299299   0.177989     0.093751      0.110565   \n",
      "LuÃƒÂ­s A. Almeida            1.000000   0.079760     0.067039      0.092973   \n",
      "\n",
      "Author_Name         A. Gunasekaran  A. Kannan  ...  NULL  NULL  NULL  NULL  \\\n",
      "Author_Name                                    ...                           \n",
      "A Burns                   0.000000   0.000000  ...   0.0   0.0   0.0   0.0   \n",
      "A Rutges                  0.000000   0.000000  ...   0.0   0.0   0.0   0.0   \n",
      "A. Ãƒâ€“zaygen            0.065212   0.094675  ...   0.0   0.0   0.0   0.0   \n",
      "A. Almansoori             0.094953   0.147091  ...   0.0   0.0   0.0   0.0   \n",
      "LuÃƒÂ­s A. Almeida        0.063348   0.091969  ...   0.0   0.0   0.0   0.0   \n",
      "\n",
      "Author_Name         NULL  NULL  NULL  NULL  NULL  NULL  \n",
      "Author_Name                                             \n",
      "A Burns              0.0   0.0   0.0   0.0   0.0   0.0  \n",
      "A Rutges             0.0   0.0   0.0   0.0   0.0   0.0  \n",
      "A. Ãƒâ€“zaygen       0.0   0.0   0.0   0.0   0.0   0.0  \n",
      "A. Almansoori        0.0   0.0   0.0   0.0   0.0   0.0  \n",
      "LuÃƒÂ­s A. Almeida   0.0   0.0   0.0   0.0   0.0   0.0  \n",
      "\n",
      "[5 rows x 10740 columns]\n"
     ]
    }
   ],
   "source": [
    "from sklearn.metrics.pairwise import cosine_similarity\n",
    "\n",
    "# Compute similarity scores\n",
    "similarity_matrix = cosine_similarity(tfidf_matrix)\n",
    "\n",
    "# Convert to DataFrame\n",
    "similarity_df = pd.DataFrame(similarity_matrix, index=df[\"Author_Name\"], columns=df[\"Author_Name\"])\n",
    "\n",
    "print(similarity_df.head())  # Check similarity scores\n"
   ]
  },
  {
   "cell_type": "code",
   "execution_count": 68,
   "metadata": {},
   "outputs": [
    {
     "name": "stdout",
     "output_type": "stream",
     "text": [
      "              Original Name                                      Similar Names\n",
      "0          Andy Philippakis                                   [A. Philippakis]\n",
      "1     Andrew S. Philippakis                                   [A. Philippakis]\n",
      "2       A. Tomasz Jarmoszko         [A. Tomasz Jarmoszko, A. Tomasz Jarmoszko]\n",
      "3             A.B. Whinston  [A.B. Whinston, A.B. Whinston, A.B. Whinston, ...\n",
      "4               A. Whinston  [A.B. Whinston, A.B. Whinston, A.B. Whinston, ...\n",
      "...                     ...                                                ...\n",
      "1980             Zhou Zhang  [Xiangzhou Zhang, Xiangzhou Zhang, Xiangzhou Z...\n",
      "1981      Zhuo (June) Cheng             [Zhuo (June) Cheng, Zhuo (June) Cheng]\n",
      "1982             Zilong Liu                           [Zilong Liu, Zilong Liu]\n",
      "1983   Justin Zuopeng Zhang  [Zuopeng Zhang, Justin Zuopeng Zhang, Justin Z...\n",
      "1984                   NULL  [NULL, NULL, NULL, NULL, NULL, NULL, NULL, NUL...\n",
      "\n",
      "[1985 rows x 2 columns]\n"
     ]
    }
   ],
   "source": [
    "# Set similarity threshold (0.75 means 75% similar)\n",
    "threshold = 0.75  \n",
    "\n",
    "# Store matched names\n",
    "matches = {}\n",
    "\n",
    "for i, name in enumerate(df[\"Author_Name\"]):\n",
    "    for j, other_name in enumerate(df[\"Author_Name\"]):\n",
    "        if i != j and similarity_matrix[i][j] > threshold:\n",
    "            matches.setdefault(name, []).append(other_name)\n",
    "\n",
    "# Convert to DataFrame\n",
    "matches_df = pd.DataFrame(list(matches.items()), columns=[\"Original Name\", \"Similar Names\"])\n",
    "print(matches_df)\n"
   ]
  },
  {
   "cell_type": "code",
   "execution_count": 69,
   "metadata": {},
   "outputs": [
    {
     "name": "stdout",
     "output_type": "stream",
     "text": [
      "          Author_Name   Standardized_Name\n",
      "0             A Burns             A Burns\n",
      "1            A Rutges            A Rutges\n",
      "2      A. Ãƒâ€“zaygen      A. Ãƒâ€“zaygen\n",
      "3       A. Almansoori       A. Almansoori\n",
      "4  LuÃƒÂ­s A. Almeida  LuÃƒÂ­s A. Almeida\n"
     ]
    }
   ],
   "source": [
    "import pandas as pd\n",
    "\n",
    "# Function to get the shortest similar name\n",
    "def standardize_name(name, matches):\n",
    "    if name in matches and isinstance(matches[name], list):  # Ensure it's a list\n",
    "        valid_names = [str(n) for n in matches[name] if pd.notna(n)]  # Convert to strings & remove NaNs\n",
    "        if valid_names:\n",
    "            return min(valid_names, key=len)  # Choose the shortest version\n",
    "    return name  # Keep original if no match\n",
    "\n",
    "df[\"Standardized_Name\"] = df[\"Author_Name\"].apply(lambda x: standardize_name(x, matches))\n",
    "df.to_csv(\"cleaned_authors.csv\", index=False)\n",
    "\n",
    "print(df[[\"Author_Name\", \"Standardized_Name\"]].head())\n"
   ]
  }
 ],
 "metadata": {
  "language_info": {
   "name": "python"
  }
 },
 "nbformat": 4,
 "nbformat_minor": 2
}
