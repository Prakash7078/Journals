{
 "cells": [
  {
   "cell_type": "code",
   "execution_count": 5,
   "id": "dd59a9bf-f232-4b4d-8b5c-49cc2157a70f",
   "metadata": {},
   "outputs": [],
   "source": [
    "import requests\n",
    "import csv\n",
    "from bs4 import BeautifulSoup\n",
    "url='https://www.jmis-web.org/'\n",
    "response=requests.get(url)\n",
    "with open('Journal_of_MIS.csv',mode='a',newline='',encoding='utf-8') as file:\n",
    "    writer=csv.writer(file)\n",
    "    writer.writerow(['title','url'])\n",
    "if response.status_code==200:\n",
    "    soup=BeautifulSoup(response.text,'html.parser')\n",
    "    volume_titles=soup.select('div.margin-bottom-15 h4 > a')\n",
    "    for title in volume_titles:\n",
    "        article_url=title.get('href')\n",
    "        article_text=title.text.strip()\n",
    "        try:\n",
    "            with open('Journal_of_MIS.csv',mode='a',newline='',encoding='utf-8') as file:\n",
    "                writer=csv.writer(file)\n",
    "                writer.writerow([article_text,article_url])\n",
    "            print(\"done\")\n",
    "        except Exception as e:\n",
    "            print(e)\n",
    "else:\n",
    "    print(f\"Failed to retrieve the page. Status code: {response.status_code}\")   "
   ]
  },
  {
   "cell_type": "code",
   "execution_count": 13,
   "id": "15ca8385-dd1b-4afb-9ff8-3b3530f244d1",
   "metadata": {},
   "outputs": [],
   "source": [
    "from selenium import webdriver\n",
    "from selenium.webdriver.common.by import By\n",
    "import csv\n",
    "url='https://www.jmis-web.org/'\n",
    "driver=webdriver.Chrome()\n",
    "driver.get(url)\n",
    "with open('Journal_of_MIS.csv',mode='a',newline='',encoding='utf-8') as file:\n",
    "    writer=csv.writer(file)\n",
    "    writer.writerow(['title','url'])\n",
    "volumes=driver.find_elements(By.CSS_SELECTOR,'div.margin-bottom-15 h4 a')\n",
    "for title in volumes:\n",
    "    volume_url=title.get_attribute('href')\n",
    "    volume_title=title.text.strip()\n",
    "    try:\n",
    "        with open('Journal_of_MIS.csv',mode='a',newline='',encoding='utf-8') as file:\n",
    "            writer=csv.writer(file)\n",
    "            writer.writerow([volume_title,volume_url])\n",
    "    except Exception as e:\n",
    "        print(e)\n",
    "driver.quit()"
   ]
  },
  {
   "cell_type": "code",
   "execution_count": null,
   "id": "dd9dec7e-8789-4ee9-b355-43f50148ea24",
   "metadata": {},
   "outputs": [],
   "source": []
  }
 ],
 "metadata": {
  "kernelspec": {
   "display_name": "Python 3 (ipykernel)",
   "language": "python",
   "name": "python3"
  },
  "language_info": {
   "codemirror_mode": {
    "name": "ipython",
    "version": 3
   },
   "file_extension": ".py",
   "mimetype": "text/x-python",
   "name": "python",
   "nbconvert_exporter": "python",
   "pygments_lexer": "ipython3",
   "version": "3.12.4"
  }
 },
 "nbformat": 4,
 "nbformat_minor": 5
}
